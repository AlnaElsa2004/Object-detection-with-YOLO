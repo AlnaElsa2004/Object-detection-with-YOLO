{
  "nbformat": 4,
  "nbformat_minor": 0,
  "metadata": {
    "colab": {
      "provenance": [],
      "gpuType": "T4"
    },
    "kernelspec": {
      "name": "python3",
      "display_name": "Python 3"
    },
    "language_info": {
      "name": "python"
    },
    "accelerator": "GPU"
  },
  "cells": [
    {
      "cell_type": "markdown",
      "source": [
        "YOLO (You Only Look Once) is a real-time object detection algorithm that processes images and videos with high accuracy and speed. Using the Darknet framework, YOLO analyzes static images by dividing them into grids, predicting bounding boxes, and identifying objects in a single pass. This efficient approach ensures fast and reliable detection. When applied to video, YOLO extends its capabilities by processing individual frames in sequence, maintaining real-time performance and enabling continuous object tracking across frames. This makes YOLO and Darknet powerful tools for various applications, from image analysis to real-time video surveillance."
      ],
      "metadata": {
        "id": "jBTe0qrtkA0A"
      }
    },
    {
      "cell_type": "markdown",
      "source": [
        "## Object detection in images"
      ],
      "metadata": {
        "id": "0FFdmdqAVghk"
      }
    },
    {
      "cell_type": "markdown",
      "source": [],
      "metadata": {
        "id": "T4IbXnAFj_I3"
      }
    },
    {
      "cell_type": "markdown",
      "source": [
        "### Downloading Darknet"
      ],
      "metadata": {
        "id": "06B66vhzVnhO"
      }
    },
    {
      "cell_type": "markdown",
      "source": [
        "cloning a github repository inorder to download darknet\n"
      ],
      "metadata": {
        "id": "2oXoEdKwjSa_"
      }
    },
    {
      "cell_type": "code",
      "execution_count": null,
      "metadata": {
        "id": "ry_gtfoiVXwF"
      },
      "outputs": [],
      "source": [
        "!git clone https://github.com/AlexeyAB/darknet"
      ]
    },
    {
      "cell_type": "code",
      "source": [
        "ls"
      ],
      "metadata": {
        "id": "9vf3ZDytWGpG"
      },
      "execution_count": null,
      "outputs": []
    },
    {
      "cell_type": "code",
      "source": [
        "cd darknet/"
      ],
      "metadata": {
        "id": "bXyQFfcxWKz6"
      },
      "execution_count": null,
      "outputs": []
    },
    {
      "cell_type": "code",
      "source": [
        "ls"
      ],
      "metadata": {
        "id": "WtXK395_WRK_"
      },
      "execution_count": null,
      "outputs": []
    },
    {
      "cell_type": "markdown",
      "source": [
        "### Compiling the library"
      ],
      "metadata": {
        "id": "ILJsfYpeWVWE"
      }
    },
    {
      "cell_type": "code",
      "source": [
        "!make"
      ],
      "metadata": {
        "id": "nV4gJzjTWR4M",
        "collapsed": true
      },
      "execution_count": null,
      "outputs": []
    },
    {
      "cell_type": "markdown",
      "source": [
        "### Downloading YOLO weights"
      ],
      "metadata": {
        "id": "2nkEOgVFWk7-"
      }
    },
    {
      "cell_type": "code",
      "source": [
        "!wget https://github.com/AlexeyAB/darknet/releases/download/darknet_yolo_v3_optimal/yolov4.weights"
      ],
      "metadata": {
        "id": "u4lryqKBWbhC"
      },
      "execution_count": null,
      "outputs": []
    },
    {
      "cell_type": "markdown",
      "source": [
        "### Testing the object detector"
      ],
      "metadata": {
        "id": "v1fdt_3MXXAD"
      }
    },
    {
      "cell_type": "code",
      "source": [
        "ls"
      ],
      "metadata": {
        "id": "EhpN22vGXNA5"
      },
      "execution_count": null,
      "outputs": []
    },
    {
      "cell_type": "code",
      "source": [
        "!./darknet detect cfg/yolov4.cfg yolov4.weights data/person.jpg"
      ],
      "metadata": {
        "id": "VAiOMvdbXcaj"
      },
      "execution_count": null,
      "outputs": []
    },
    {
      "cell_type": "markdown",
      "source": [
        "So here we can see all objects that are identified such as dog(99%), person(100%) and horse(98%) and the result is saved to predictions.jpg"
      ],
      "metadata": {
        "id": "j-M1QeB1YW81"
      }
    },
    {
      "cell_type": "code",
      "source": [
        "import cv2\n",
        "import matplotlib.pyplot as plt\n",
        "def show_detection(path):\n",
        "  image=cv2.imread(path)\n",
        "  fig=plt.gcf()#this function will get the axis and store in a figure object inorder to show the image\n",
        "  fig.set_size_inches(20,20)\n",
        "  plt.axis('off')\n",
        "  plt.imshow(cv2.cvtColor(image,cv2.COLOR_BGR2RGB))"
      ],
      "metadata": {
        "id": "OEfnvNR2YC8a"
      },
      "execution_count": null,
      "outputs": []
    },
    {
      "cell_type": "code",
      "source": [
        "show_detection('predictions.jpg')"
      ],
      "metadata": {
        "id": "HMi88NTBZjGR"
      },
      "execution_count": null,
      "outputs": []
    },
    {
      "cell_type": "markdown",
      "source": [
        "### Darknet and GPU"
      ],
      "metadata": {
        "id": "Cr2aQ1ohaPe-"
      }
    },
    {
      "cell_type": "code",
      "source": [
        "import tensorflow as tf\n",
        "tf.test.gpu_device_name() #inorder to check whether we are using GPU"
      ],
      "metadata": {
        "id": "zYWT-pt8Zm-I"
      },
      "execution_count": null,
      "outputs": []
    },
    {
      "cell_type": "code",
      "source": [
        "ls"
      ],
      "metadata": {
        "id": "8pFmzrSua-pr"
      },
      "execution_count": null,
      "outputs": []
    },
    {
      "cell_type": "code",
      "source": [
        "!sed -i 's/OPENCV=0/OPENCV=1/' Makefile\n",
        "!sed -i 's/GPU=0/GPU=1/' Makefile\n",
        "!sed -i 's/CUDNN=0/CUDNN=1/' Makefile\n",
        "#change the values of OENCV, GPU and CUDNN from 0 to 1 in Makefile"
      ],
      "metadata": {
        "id": "rQF6Ojg4bOGG"
      },
      "execution_count": null,
      "outputs": []
    },
    {
      "cell_type": "code",
      "source": [
        "#compiling the library\n",
        "!make"
      ],
      "metadata": {
        "id": "ErNUXKv2cFPc",
        "collapsed": true
      },
      "execution_count": null,
      "outputs": []
    },
    {
      "cell_type": "code",
      "source": [
        "#testing with another image\n",
        "!./darknet detect cfg/yolov4.cfg yolov4.weights data/giraffe.jpg"
      ],
      "metadata": {
        "id": "Bp_AK0EfcRxW",
        "collapsed": true
      },
      "execution_count": null,
      "outputs": []
    },
    {
      "cell_type": "markdown",
      "source": [
        "The processing will be faster because we are using GPU"
      ],
      "metadata": {
        "id": "5YWpQ24qc3o0"
      }
    },
    {
      "cell_type": "code",
      "source": [
        "show_detection('predictions.jpg')"
      ],
      "metadata": {
        "id": "AIFw8lJCcwn5"
      },
      "execution_count": null,
      "outputs": []
    },
    {
      "cell_type": "markdown",
      "source": [
        "So the giraffe is recognized with 100% accuracy and zebra is recognized with 99% accuracy"
      ],
      "metadata": {
        "id": "4jbKxyGbdInw"
      }
    },
    {
      "cell_type": "markdown",
      "source": [
        "### Threshold"
      ],
      "metadata": {
        "id": "-fN8uKKFduc1"
      }
    },
    {
      "cell_type": "code",
      "source": [
        "!./darknet detect cfg/yolov4.cfg yolov4.weights data/horses.jpg"
      ],
      "metadata": {
        "id": "mV707ywtdD5v",
        "collapsed": true
      },
      "execution_count": null,
      "outputs": []
    },
    {
      "cell_type": "code",
      "source": [
        "show_detection('predictions.jpg')"
      ],
      "metadata": {
        "id": "SU_VSJ1Rd8Mj"
      },
      "execution_count": null,
      "outputs": []
    },
    {
      "cell_type": "markdown",
      "source": [
        "So 5 horses were detected\n"
      ],
      "metadata": {
        "id": "CFJpY316eMNG"
      }
    },
    {
      "cell_type": "code",
      "source": [
        "!./darknet detect cfg/yolov4.cfg yolov4.weights data/horses.jpg -thresh 0.9"
      ],
      "metadata": {
        "id": "7cbFmtBZeFQf",
        "collapsed": true
      },
      "execution_count": null,
      "outputs": []
    },
    {
      "cell_type": "code",
      "source": [
        "show_detection('predictions.jpg')"
      ],
      "metadata": {
        "id": "KmB2j4k0eTci"
      },
      "execution_count": null,
      "outputs": []
    },
    {
      "cell_type": "markdown",
      "source": [
        "here, only 3 horses were detcted\n",
        "\n",
        "This means that setting a high value for the 'thresh' parameter improves detection quality but makes it harder for the algorithm to detect objects or events."
      ],
      "metadata": {
        "id": "hJXIZelLeiFL"
      }
    },
    {
      "cell_type": "code",
      "source": [
        "!./darknet detect cfg/yolov4.cfg yolov4.weights data/horses.jpg -thresh 0.98"
      ],
      "metadata": {
        "id": "0AoPZl5mfce0",
        "collapsed": true
      },
      "execution_count": null,
      "outputs": []
    },
    {
      "cell_type": "code",
      "source": [
        "show_detection('predictions.jpg')"
      ],
      "metadata": {
        "id": "RSqABJnXfh49"
      },
      "execution_count": null,
      "outputs": []
    },
    {
      "cell_type": "code",
      "source": [
        "!./darknet detect cfg/yolov4.cfg yolov4.weights data/horses.jpg -thresh 0.00001"
      ],
      "metadata": {
        "id": "D5WKAyOKfmrK"
      },
      "execution_count": null,
      "outputs": []
    },
    {
      "cell_type": "code",
      "source": [
        "show_detection('predictions.jpg')"
      ],
      "metadata": {
        "id": "68-z9vMnf_jq"
      },
      "execution_count": null,
      "outputs": []
    },
    {
      "cell_type": "markdown",
      "source": [
        "since the thresh value is very low, it will detect objects that does not exist in the image and provide very bad results"
      ],
      "metadata": {
        "id": "iCI_lZMzgG4t"
      }
    },
    {
      "cell_type": "markdown",
      "source": [
        "### ext_output"
      ],
      "metadata": {
        "id": "sl8T_Fz1gacb"
      }
    },
    {
      "cell_type": "code",
      "source": [
        "!./darknet detect cfg/yolov4.cfg yolov4.weights data/horses.jpg -ext_output"
      ],
      "metadata": {
        "id": "hHLAykBsgCLY"
      },
      "execution_count": null,
      "outputs": []
    },
    {
      "cell_type": "code",
      "source": [
        "show_detection('predictions.jpg')"
      ],
      "metadata": {
        "id": "efXlIkNqgiM7"
      },
      "execution_count": null,
      "outputs": []
    },
    {
      "cell_type": "markdown",
      "source": [
        "The difference is it shows values in bounding boxes which include it's x coordinate,y coordinate ,width and height"
      ],
      "metadata": {
        "id": "cXTBZ04lgtmA"
      }
    },
    {
      "cell_type": "markdown",
      "source": [
        "## Object detection in videos"
      ],
      "metadata": {
        "id": "CCVoNx9thALU"
      }
    },
    {
      "cell_type": "code",
      "source": [
        "!mkdir /content/my_new_folder"
      ],
      "metadata": {
        "id": "n0bL8OXtgrb2"
      },
      "execution_count": null,
      "outputs": []
    },
    {
      "cell_type": "code",
      "source": [
        "ls"
      ],
      "metadata": {
        "id": "ai6Z7S_RhHb0"
      },
      "execution_count": null,
      "outputs": []
    },
    {
      "cell_type": "code",
      "source": [
        "!./darknet detector demo cfg/coco.data cfg/yolov4.cfg yolov4.weights -dont_show /content/my_new_folder/video_street.mp4 -i 0 -out_filename /content/my_new_folder/video_street_result.avi"
      ],
      "metadata": {
        "id": "r1CGzhy2hjKa"
      },
      "execution_count": null,
      "outputs": []
    },
    {
      "cell_type": "markdown",
      "source": [
        "Hence we detected all objects in the video."
      ],
      "metadata": {
        "id": "4keH6EScjHfW"
      }
    },
    {
      "cell_type": "markdown",
      "source": [
        "With its speed and accuracy, YOLO combined with Darknet provides a robust solution for successfully detecting objects in both images and videos, making it ideal for real-world applications requiring real-time and precise object recognition."
      ],
      "metadata": {
        "id": "CHybz-66kRLx"
      }
    },
    {
      "cell_type": "code",
      "source": [],
      "metadata": {
        "id": "rCAhbhrmigen"
      },
      "execution_count": null,
      "outputs": []
    }
  ]
}